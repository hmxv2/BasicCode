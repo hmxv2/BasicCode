{
 "cells": [
  {
   "cell_type": "code",
   "execution_count": null,
   "metadata": {
    "collapsed": true
   },
   "outputs": [],
   "source": [
    "import sys\n",
    "\n",
    "\n",
    "def func(string):\n",
    "    d = {'A':0, 'B':1, 'C':2, 'D':3, 'E':4, 'F':5, 'G':6, 'H':7, 'I':8, 'J':9, 'K':10, 'L':11, 'M':12, 'N':13, 'O':14, 'P':15, 'Q':16, 'R':17, 'S':18, 'T':19, 'U':20, 'V':21, 'W':22, 'X':23, 'Y':24, 'Z':25 }\n",
    "    length = len(string)\n",
    "    res = ''\n",
    "    if length < 5:\n",
    "        return string\n",
    "    else:\n",
    "        i = 0\n",
    "        while i < length:\n",
    "            j = i\n",
    "            # print i\n",
    "            while j < length-1 and d[string[j]] == d[string[j+1]] - 1:\n",
    "                j += 1\n",
    "\n",
    "            if j - i >= 3:\n",
    "                res = res + string[i] + '-' + string[j]\n",
    "            else:\n",
    "                res += string[i:j+1]\n",
    "            i = j+1\n",
    "    return res\n",
    "\n",
    "\n",
    "if __name__=='__main__':\n",
    "    case = int(sys.stdin.readline().strip())\n",
    "    for c in range(case):\n",
    "        string = sys.stdin.readline().strip()\n",
    "        res  = func(string)\n",
    "        print res"
   ]
  }
 ],
 "metadata": {
  "kernelspec": {
   "display_name": "Python 2",
   "language": "python",
   "name": "python2"
  },
  "language_info": {
   "codemirror_mode": {
    "name": "ipython",
    "version": 2
   },
   "file_extension": ".py",
   "mimetype": "text/x-python",
   "name": "python",
   "nbconvert_exporter": "python",
   "pygments_lexer": "ipython2",
   "version": "2.7.6"
  }
 },
 "nbformat": 4,
 "nbformat_minor": 2
}

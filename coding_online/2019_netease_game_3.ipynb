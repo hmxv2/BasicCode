{
 "cells": [
  {
   "cell_type": "code",
   "execution_count": null,
   "metadata": {
    "collapsed": true
   },
   "outputs": [],
   "source": [
    "import sys\n",
    "\n",
    "\n",
    "def func(x, y, string):\n",
    "    d = {'0':0, '1':1, '2':2, '3':3, '4':4, '5':5, '6':6, '7':7, '8':8, '9':9, 'A':10, 'B':11, 'C':12, 'D':13, 'E':14, 'F':15}\n",
    "    length = len(string)\n",
    "    left = 0\n",
    "    right = 0\n",
    "    # for i in range(1, length):\n",
    "    #     right = (right + d[string[i]])*y\n",
    "\n",
    "    for i in range(1, length):\n",
    "        left = left + d[string[i-1]]\n",
    "        for j in range(i, length-1):\n",
    "            right = (right + d[string[j]])*y\n",
    "        right = right + d[string[length-1]]\n",
    "        if left == right:\n",
    "            return left\n",
    "        left *= x\n",
    "        right = 0\n",
    "    return left\n",
    "\n",
    "\n",
    "if __name__=='__main__':\n",
    "    case = int(sys.stdin.readline().strip())\n",
    "    for c in range(case):\n",
    "        items = sys.stdin.readline().strip().split(' ')\n",
    "        X = int(items[0])\n",
    "        Y = int(items[1])\n",
    "        string = items[2]\n",
    "        N = func(X, Y, string)\n",
    "        print N"
   ]
  }
 ],
 "metadata": {
  "kernelspec": {
   "display_name": "Python 2",
   "language": "python",
   "name": "python2"
  },
  "language_info": {
   "codemirror_mode": {
    "name": "ipython",
    "version": 2
   },
   "file_extension": ".py",
   "mimetype": "text/x-python",
   "name": "python",
   "nbconvert_exporter": "python",
   "pygments_lexer": "ipython2",
   "version": "2.7.6"
  }
 },
 "nbformat": 4,
 "nbformat_minor": 2
}

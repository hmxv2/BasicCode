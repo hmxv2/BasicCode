{
 "cells": [
  {
   "cell_type": "code",
   "execution_count": 3,
   "metadata": {},
   "outputs": [
    {
     "name": "stdout",
     "output_type": "stream",
     "text": [
      "singer_周杰|周杰伦|刘德华|王力宏;song_冰雨|北京欢迎你|七里香;actor_周杰伦|孙俪\n",
      "请播放周杰伦的七里香给我听\n",
      "请播放  周杰/singer /singer 伦的  七里香/song /song 给我听\n"
     ]
    }
   ],
   "source": [
    "'''\n",
    "题目:\n",
    "\n",
    "singer_周杰|周杰伦|刘德华|王力宏;song_冰雨|北京欢迎你|七里香;actor_周杰伦|孙俪\n",
    "请播放周杰伦的七里香给我听\n",
    "'''\n",
    "import sys\n",
    "\n",
    "know=raw_input()\n",
    "query=raw_input()\n",
    "\n",
    "know_value=know.split(';')\n",
    "know_dict={}\n",
    "for i in know_value:\n",
    "    i_dict={}\n",
    "    c,v=i.split('_')\n",
    "    i_dict[c]=v.split('|')\n",
    "    know_dict.update(i_dict)\n",
    "\n",
    "for c in know_dict.keys():\n",
    "    v_list=know_dict[c]\n",
    "    for v in v_list:\n",
    "        if v in query:\n",
    "            query=query.replace(v,' %s/'%v+'%s '%c)\n",
    "\n",
    "print(query)"
   ]
  },
  {
   "cell_type": "code",
   "execution_count": null,
   "metadata": {
    "collapsed": true
   },
   "outputs": [],
   "source": [
    "\n",
    "\n",
    "import sys\n",
    "\n",
    "know=raw_input()\n",
    "query=raw_input()\n",
    "\n",
    "know_value=know.split(';')\n",
    "know_dict={}\n",
    "know_set=set()\n",
    "for i in know_value:\n",
    "    i_dict={}\n",
    "    c,v=i.split('_')\n",
    "    i_dict[c]=v.split('|')\n",
    "    know_set.add(c)\n",
    "    know_dict.update(i_dict)\n",
    "\n",
    "for c in know_dict.keys():\n",
    "    v_list=know_dict[c]\n",
    "\n",
    "    for v in v_list:\n",
    "        if v not in know_set:\n",
    "            query=query.replace(v,' %s/'%v+'%s '%c)\n",
    "        if v in query:\n",
    "            query=query.replace(v,' %s/'%v+'%s '%c)\n",
    "            \n",
    "\n",
    "print(query)"
   ]
  }
 ],
 "metadata": {
  "kernelspec": {
   "display_name": "Python 2",
   "language": "python",
   "name": "python2"
  }
 },
 "nbformat": 4,
 "nbformat_minor": 2
}

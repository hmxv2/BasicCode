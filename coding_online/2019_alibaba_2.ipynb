{
 "cells": [
  {
   "cell_type": "code",
   "execution_count": 9,
   "metadata": {},
   "outputs": [
    {
     "name": "stdout",
     "output_type": "stream",
     "text": [
      "<[播]放|来>[一|几]<首|曲|个> 的<歌[曲]|[流行]音乐>\n",
      "<[播]放|来>[一|几]<首|曲|个> 的<歌[曲]|[流行]音乐>\n"
     ]
    }
   ],
   "source": [
    "'''\n",
    "输入范例:\n",
    "<[播]放|来>[一|几]<首|曲|个>@{singer}的<歌[曲]|[流行]音乐>\n",
    "来几首@{singer}的流行歌曲\n",
    "输出范例:\n",
    "0\n",
    "'''\n",
    "\n",
    "import re\n",
    "inputs = '<[播]放|来>[一|几]<首|曲|个>@{singer}的<歌[曲]|[流行]音乐>'\n",
    "inputs_cut = inputs.split('@{singer}')\n",
    "\n",
    "for x in inputs_cut:\n",
    "    print(' '.join(inputs_cut))\n"
   ]
  },
  {
   "cell_type": "code",
   "execution_count": null,
   "metadata": {},
   "outputs": [],
   "source": []
  },
  {
   "cell_type": "code",
   "execution_count": null,
   "metadata": {
    "collapsed": true
   },
   "outputs": [],
   "source": []
  }
 ],
 "metadata": {
  "kernelspec": {
   "display_name": "Python 2",
   "language": "python",
   "name": "python2"
  },
  "language_info": {
   "codemirror_mode": {
    "name": "ipython",
    "version": 2
   },
   "file_extension": ".py",
   "mimetype": "text/x-python",
   "name": "python",
   "nbconvert_exporter": "python",
   "pygments_lexer": "ipython2",
   "version": "2.7.6"
  }
 },
 "nbformat": 4,
 "nbformat_minor": 2
}
